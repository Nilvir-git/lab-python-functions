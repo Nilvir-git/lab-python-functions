{
 "cells": [
  {
   "cell_type": "markdown",
   "id": "25d7736c-ba17-4aff-b6bb-66eba20fbf4e",
   "metadata": {},
   "source": [
    "# Lab | Functions"
   ]
  },
  {
   "cell_type": "markdown",
   "id": "0c581062-8967-4d93-b06e-62833222f930",
   "metadata": {
    "tags": []
   },
   "source": [
    "## Exercise: Managing Customer Orders with Functions\n",
    "\n",
    "In the previous exercise, you improved the code for managing customer orders by using loops and flow control. Now, let's take it a step further and refactor the code by introducing functions.\n",
    "\n",
    "Follow the steps below to complete the exercise:\n",
    "\n",
    "1. Define a function named `initialize_inventory` that takes `products` as a parameter. Inside the function, implement the code for initializing the inventory dictionary using a loop and user input.\n",
    "\n",
    "2. Define a function named `get_customer_orders` that takes no parameters. Inside the function, implement the code for prompting the user to enter the product names using a loop. The function should return the `customer_orders` set.\n",
    "\n",
    "3. Define a function named `update_inventory` that takes `customer_orders` and `inventory` as parameters. Inside the function, implement the code for updating the inventory dictionary based on the customer orders.\n",
    "\n",
    "4. Define a function named `calculate_order_statistics` that takes `customer_orders` and `products` as parameters. Inside the function, implement the code for calculating the order statistics (total products ordered, and percentage of unique products ordered). The function should return these values.\n",
    "\n",
    "5. Define a function named `print_order_statistics` that takes `order_statistics` as a parameter. Inside the function, implement the code for printing the order statistics.\n",
    "\n",
    "6. Define a function named `print_updated_inventory` that takes `inventory` as a parameter. Inside the function, implement the code for printing the updated inventory.\n",
    "\n",
    "7. Call the functions in the appropriate sequence to execute the program and manage customer orders.\n",
    "\n",
    "Hints for functions:\n",
    "\n",
    "- Consider the input parameters required for each function and their return values.\n",
    "- Utilize function parameters and return values to transfer data between functions.\n",
    "- Test your functions individually to ensure they work correctly.\n",
    "\n",
    "\n"
   ]
  },
  {
   "cell_type": "code",
   "execution_count": 6,
   "id": "54122ffb-62f0-479f-919d-94515885be8f",
   "metadata": {},
   "outputs": [],
   "source": [
    "products = [\"t-shirt\", \"mug\", \"hat\", \"book\", \"keychain\"]"
   ]
  },
  {
   "cell_type": "code",
   "execution_count": 4,
   "id": "86f6fdc0-6405-4523-8910-bbf30e96c265",
   "metadata": {},
   "outputs": [],
   "source": [
    "def initialize_inventory(products):\n",
    "    inventory = {}\n",
    "    for product in products:\n",
    "        quantity = int(input(f\"Number of {product}s available: \"))\n",
    "        inventory[product] = quantity\n",
    "    \n",
    "    return inventory"
   ]
  },
  {
   "cell_type": "code",
   "execution_count": 48,
   "id": "45dcd607-72e0-4b20-9457-4a7696d9cc90",
   "metadata": {},
   "outputs": [
    {
     "name": "stdin",
     "output_type": "stream",
     "text": [
      "number of t-shirt available:  3\n",
      "number of mug available:  3\n",
      "number of hat available:  3\n",
      "number of book available:  3\n",
      "number of keychain available:  3\n"
     ]
    }
   ],
   "source": [
    "my_inventory = initialize_inventory(products)"
   ]
  },
  {
   "cell_type": "code",
   "execution_count": 49,
   "id": "fc6f2adf-67e7-4ded-a037-09c485f0cf1b",
   "metadata": {},
   "outputs": [
    {
     "data": {
      "text/plain": [
       "{'t-shirt': 3, 'mug': 3, 'hat': 3, 'book': 3, 'keychain': 3}"
      ]
     },
     "execution_count": 49,
     "metadata": {},
     "output_type": "execute_result"
    }
   ],
   "source": [
    "my_inventory"
   ]
  },
  {
   "cell_type": "code",
   "execution_count": 50,
   "id": "a9f94f8e-68b1-4a45-9d03-ee1f24668952",
   "metadata": {},
   "outputs": [],
   "source": [
    "def get_customer_orders():\n",
    "    products = [\"t-shirt\", \"mug\", \"hat\", \"book\", \"keychain\"]\n",
    "    customer_orders = set()\n",
    "    \n",
    "    while True:\n",
    "        order = input(\"Enter a product you'd like to order (t-shirt, mug, hat, book, keychain): \").strip().lower()\n",
    "        if order in products:\n",
    "            customer_orders.add(order)\n",
    "        else:\n",
    "            print(\"Invalid product. Please choose from the available list.\")\n",
    "        \n",
    "        another = input(\"Do you want to add another product? (yes/no): \").strip().lower()\n",
    "        if another != \"yes\":\n",
    "            break\n",
    "    \n",
    "    return customer_orders"
   ]
  },
  {
   "cell_type": "code",
   "execution_count": 52,
   "id": "21898bde-1206-44dc-a497-891fb0dd6684",
   "metadata": {},
   "outputs": [
    {
     "name": "stdin",
     "output_type": "stream",
     "text": [
      "Enter a product you'd like to order (t-shirt, mug, hat, book, keychain):  t-shirt\n",
      "Do you want to add another product? (yes/no):  yes\n",
      "Enter a product you'd like to order (t-shirt, mug, hat, book, keychain):  mug\n",
      "Do you want to add another product? (yes/no):  yes\n",
      "Enter a product you'd like to order (t-shirt, mug, hat, book, keychain):  hat\n",
      "Do you want to add another product? (yes/no):  no\n"
     ]
    }
   ],
   "source": [
    "customer_orders = get_customer_orders()"
   ]
  },
  {
   "cell_type": "code",
   "execution_count": 53,
   "id": "359417b2-d33e-49a8-9bc4-1892e041326f",
   "metadata": {},
   "outputs": [
    {
     "data": {
      "text/plain": [
       "{'hat', 'mug', 't-shirt'}"
      ]
     },
     "execution_count": 53,
     "metadata": {},
     "output_type": "execute_result"
    }
   ],
   "source": [
    "customer_orders"
   ]
  },
  {
   "cell_type": "code",
   "execution_count": 54,
   "id": "92c8e86d-3596-4cb1-84aa-5b61909c751c",
   "metadata": {},
   "outputs": [],
   "source": [
    "#Define a function named update_inventory that takes customer_orders and inventory as parameters. \n",
    "#Inside the function, implement the code for updating the inventory dictionary based on the customer orders.\n",
    "\n",
    "def update_inventory(customer_orders, my_inventory):\n",
    "    for item in customer_orders:\n",
    "        if item in my_inventory and my_inventory[item]>0:\n",
    "            my_inventory[item]-=1"
   ]
  },
  {
   "cell_type": "code",
   "execution_count": 55,
   "id": "882f61cb-6aa4-473d-8339-8cad5d9ddb14",
   "metadata": {},
   "outputs": [],
   "source": [
    "update_inventory(customer_orders, my_inventory)"
   ]
  },
  {
   "cell_type": "code",
   "execution_count": 56,
   "id": "ddb9e0ed-2475-437a-959b-6e850952532e",
   "metadata": {},
   "outputs": [
    {
     "data": {
      "text/plain": [
       "{'t-shirt': 2, 'mug': 2, 'hat': 2, 'book': 3, 'keychain': 3}"
      ]
     },
     "execution_count": 56,
     "metadata": {},
     "output_type": "execute_result"
    }
   ],
   "source": [
    "my_inventory"
   ]
  },
  {
   "cell_type": "code",
   "execution_count": 57,
   "id": "ff5af185-f383-4149-b259-3b3d64925db9",
   "metadata": {},
   "outputs": [],
   "source": [
    "#Define a function named calculate_order_statistics that takes customer_orders and products as parameters. \n",
    "#Inside the function, implement the code for calculating the order statistics (total products ordered, and percentage of unique products ordered). \n",
    "#The function should return these values.\n",
    "\n",
    "def calculate_order_statistics(customer_orders,products):\n",
    "    total_prod_ord = len(customer_orders)\n",
    "    perc_uniq_prod_ord = total_prod_ord / len(products)\n",
    "\n",
    "    return total_prod_ord, perc_uniq_prod_ord"
   ]
  },
  {
   "cell_type": "code",
   "execution_count": 70,
   "id": "1cdc9c29-312a-488e-884d-c52b7a5d0f2c",
   "metadata": {},
   "outputs": [],
   "source": [
    "my_stats = calculate_order_statistics(customer_orders,products)"
   ]
  },
  {
   "cell_type": "code",
   "execution_count": 71,
   "id": "889807f6-276f-421a-a61a-5876ed385fed",
   "metadata": {},
   "outputs": [
    {
     "data": {
      "text/plain": [
       "(3, 0.6)"
      ]
     },
     "execution_count": 71,
     "metadata": {},
     "output_type": "execute_result"
    }
   ],
   "source": [
    "my_stats"
   ]
  },
  {
   "cell_type": "code",
   "execution_count": 69,
   "id": "53d6f857-c938-45de-8d9b-bbbd68dd503e",
   "metadata": {},
   "outputs": [],
   "source": [
    "#Define a function named print_order_statistics that takes order_statistics as a parameter. \n",
    "#Inside the function, implement the code for printing the order statistics.\n",
    "\n",
    "def print_order_statistics(order_statistics):\n",
    "    print(f\"Total products ordered: {order_statistics[0]}\")\n",
    "    print(f\"Percentage of unique products ordered: {order_statistics[1]}\")\n",
    "    "
   ]
  },
  {
   "cell_type": "raw",
   "id": "843735ca-8020-480d-a64e-80242971ae74",
   "metadata": {},
   "source": [
    "print_order_statistics(my_stats)"
   ]
  },
  {
   "cell_type": "code",
   "execution_count": 73,
   "id": "53953bac-c6ae-4ccb-9c69-1260f73efb86",
   "metadata": {},
   "outputs": [],
   "source": [
    "#Define a function named print_updated_inventory that takes inventory as a parameter.\n",
    "#Inside the function, implement the code for printing the updated inventory.\n",
    "\n",
    "def print_updated_inventory(my_inventory):\n",
    "    print(f\"Updated inventory {my_inventory}\")"
   ]
  },
  {
   "cell_type": "code",
   "execution_count": 75,
   "id": "48060d1b-689e-4fa3-bb10-20025a4ee436",
   "metadata": {},
   "outputs": [
    {
     "name": "stdout",
     "output_type": "stream",
     "text": [
      "Updated inventory {'t-shirt': 2, 'mug': 2, 'hat': 2, 'book': 3, 'keychain': 3}\n"
     ]
    }
   ],
   "source": [
    "print_updated_inventory(my_inventory)"
   ]
  },
  {
   "cell_type": "code",
   "execution_count": 76,
   "id": "a8940980-1bd0-49c1-9e85-b0a105f8dde1",
   "metadata": {},
   "outputs": [],
   "source": [
    "def sequence():\n",
    "    my_inventory = initialize_inventory(products)\n",
    "    customer_orders = get_customer_orders()\n",
    "    update_inventory(customer_orders, my_inventory)\n",
    "    my_stats = calculate_order_statistics(customer_orders,products)\n",
    "    print_order_statistics(my_stats)\n",
    "    print_updated_inventory(my_inventory)"
   ]
  },
  {
   "cell_type": "code",
   "execution_count": 77,
   "id": "fad94d2d-09d2-4533-9ae7-1cb19462f611",
   "metadata": {},
   "outputs": [
    {
     "name": "stdin",
     "output_type": "stream",
     "text": [
      "number of t-shirt available:  1\n",
      "number of mug available:  1\n",
      "number of hat available:  1\n",
      "number of book available:  1\n",
      "number of keychain available:  1\n",
      "Enter a product you'd like to order (t-shirt, mug, hat, book, keychain):  t-shirt\n",
      "Do you want to add another product? (yes/no):  yes\n",
      "Enter a product you'd like to order (t-shirt, mug, hat, book, keychain):  mug\n",
      "Do you want to add another product? (yes/no):  yes\n",
      "Enter a product you'd like to order (t-shirt, mug, hat, book, keychain):  hat\n",
      "Do you want to add another product? (yes/no):  no\n"
     ]
    },
    {
     "name": "stdout",
     "output_type": "stream",
     "text": [
      "Total products ordered: 3\n",
      "Percentage of unique products ordered: 0.6\n",
      "Updated inventory {'t-shirt': 0, 'mug': 0, 'hat': 0, 'book': 1, 'keychain': 1}\n"
     ]
    }
   ],
   "source": [
    "sequence()"
   ]
  },
  {
   "cell_type": "code",
   "execution_count": null,
   "id": "ba65252b-68a4-4bc7-8d57-a6cef502c80b",
   "metadata": {},
   "outputs": [],
   "source": []
  }
 ],
 "metadata": {
  "kernelspec": {
   "display_name": "Python 3 (ipykernel)",
   "language": "python",
   "name": "python3"
  },
  "language_info": {
   "codemirror_mode": {
    "name": "ipython",
    "version": 3
   },
   "file_extension": ".py",
   "mimetype": "text/x-python",
   "name": "python",
   "nbconvert_exporter": "python",
   "pygments_lexer": "ipython3",
   "version": "3.13.3"
  }
 },
 "nbformat": 4,
 "nbformat_minor": 5
}
